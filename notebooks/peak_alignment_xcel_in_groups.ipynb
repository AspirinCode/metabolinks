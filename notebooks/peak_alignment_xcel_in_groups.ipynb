{
 "cells": [
  {
   "cell_type": "markdown",
   "metadata": {},
   "source": [
    "###  Jupyter notebook for feature demonstration of `metabolinks` Python module\n",
    "\n",
    "#### Metabolinks Github home: https://github.com/aeferreira/metabolinks\n",
    "\n",
    "Install metabolinks by running\n",
    "\n",
    "`pip install metabolinks`"
   ]
  },
  {
   "cell_type": "markdown",
   "metadata": {},
   "source": [
    "## Peak alignment for peak tables contained in MS-Excel sheets"
   ]
  },
  {
   "cell_type": "markdown",
   "metadata": {},
   "source": [
    "This notebook demonstrates peak alignment, based on m/z proximity.\n",
    "\n",
    "A given **m/z ppm tolerance** defines the maximum relative deviation in the values of m/z from different peak lists to be considered the same peak in the resulting aligned peak table.\n",
    "\n",
    "Each peak list is a table of |m/z , Signal| values. Intensities are not considered, just copied over to the final table, and m/z values are averaged in each aligned group.\n",
    "\n",
    "Sample names and labels are copied over to the final table.\n",
    "\n",
    "An alignment is performed for each Excel worksheet. This means that several realted peak tables should be contained in the same worksheet. In the provided example data, each excel worksheet refers to different sample extraction methods."
   ]
  },
  {
   "cell_type": "markdown",
   "metadata": {},
   "source": [
    "### Functions and parameters\n",
    "\n",
    "One function does all the job: `align_spectra_in_excel()`\n",
    "\n",
    "Parameters of this function are:\n",
    "\n",
    "- The name of the Excel file where data comes from (the first parameter)\n",
    "- `save_to_excel` the name of the Excel file where results will be written to\n",
    "- `ppmtol` the tolerance, in ppm, for the deviation between m/z values of the same peak in different tables. Default is 1 ppm.\n",
    "- `min_samples` reproducibility threshold: the minimum number of occurances of a given peak to be included in the aligned table. Default is 1.\n",
    "- `sample_names` (optional) sample names to be assigned to samples (for downstream data analysis), overiding those found in the Excel file\n",
    "- `labels` (optional) labels to be assigned to samples (for downstream data analysis)\n",
    "- `header_row` the row number in Excel file where  data begins, that is, the row number for the top of the tables of peaks. Excel rows with smaller numbers are ignored and can contain comments and metadata. Open the provided example to have a look  at the top row and the format of data.\n"
   ]
  },
  {
   "cell_type": "code",
   "execution_count": null,
   "metadata": {},
   "outputs": [],
   "source": [
    "from metabolinks import align_spectra_in_excel, align\n",
    "from metabolinks.peak_alignment import save_aligned_to_excel"
   ]
  },
  {
   "cell_type": "code",
   "execution_count": null,
   "metadata": {},
   "outputs": [],
   "source": [
    "ppmtol = 1.0\n",
    "min_samples = 4\n",
    "\n",
    "in_fname = 'data_groups.xlsx'\n",
    "save_to_excel = 'aligned_by_group.xlsx'\n",
    "\n",
    "header_row = 2\n",
    "sample_names = 1\n",
    "\n",
    "aligned = align_spectra_in_excel(in_fname, save_to_excel=save_to_excel,\n",
    "                       ppmtol=ppmtol, min_samples=min_samples,\n",
    "                       header_row=header_row, sample_names=sample_names)"
   ]
  },
  {
   "cell_type": "code",
   "execution_count": null,
   "metadata": {},
   "outputs": [],
   "source": [
    "for name in aligned:\n",
    "    aligned[name].set_labels(name)"
   ]
  },
  {
   "cell_type": "code",
   "execution_count": null,
   "metadata": {},
   "outputs": [],
   "source": [
    "for name, a in aligned.items():\n",
    "    print('--------', name, '----------------')\n",
    "    print(a)"
   ]
  },
  {
   "cell_type": "code",
   "execution_count": null,
   "metadata": {},
   "outputs": [],
   "source": [
    "two_groups = [aligned[name] for name in aligned]"
   ]
  },
  {
   "cell_type": "code",
   "execution_count": null,
   "metadata": {},
   "outputs": [],
   "source": [
    "aligned_all = align(two_groups, min_samples=4, ppmtol=1.0)"
   ]
  },
  {
   "cell_type": "code",
   "execution_count": null,
   "metadata": {},
   "outputs": [],
   "source": [
    "save_aligned_to_excel('all_aligned.xlsx', {'all': aligned_all})"
   ]
  },
  {
   "cell_type": "code",
   "execution_count": null,
   "metadata": {},
   "outputs": [],
   "source": [
    "aligned_all.to_csv('aligned_all.csv', sep=',', with_labels=True)"
   ]
  },
  {
   "cell_type": "code",
   "execution_count": null,
   "metadata": {},
   "outputs": [],
   "source": []
  }
 ],
 "metadata": {
  "anaconda-cloud": {},
  "kernelspec": {
   "display_name": "Python 3",
   "language": "python",
   "name": "python3"
  },
  "language_info": {
   "codemirror_mode": {
    "name": "ipython",
    "version": 3
   },
   "file_extension": ".py",
   "mimetype": "text/x-python",
   "name": "python",
   "nbconvert_exporter": "python",
   "pygments_lexer": "ipython3",
   "version": "3.6.5"
  }
 },
 "nbformat": 4,
 "nbformat_minor": 1
}
