{
 "cells": [
  {
   "cell_type": "code",
   "execution_count": null,
   "metadata": {
    "collapsed": true
   },
   "outputs": [],
   "source": [
    "# Download the HMDB, and Lipidmaps database, and create pickle dictionaries for conversion."
   ]
  },
  {
   "cell_type": "code",
   "execution_count": null,
   "metadata": {
    "collapsed": false
   },
   "outputs": [],
   "source": [
    "import zipfile as zf\n",
    "import requests\n",
    "import xml.etree.ElementTree as ET\n",
    "import pickle"
   ]
  },
  {
   "cell_type": "code",
   "execution_count": null,
   "metadata": {
    "collapsed": true
   },
   "outputs": [],
   "source": [
    "# Save python dictionary in pickle\n",
    "def save_obj(obj, name):\n",
    "    with open(name + '.pkl', 'wb') as f:\n",
    "        pickle.dump(obj, f, pickle.HIGHEST_PROTOCOL)\n",
    "\n",
    "def load_obj(name):\n",
    "    with open(name + '.pkl', 'rb') as f:\n",
    "        return pickle.load(f)"
   ]
  },
  {
   "cell_type": "code",
   "execution_count": null,
   "metadata": {
    "collapsed": false,
    "scrolled": true
   },
   "outputs": [],
   "source": [
    "print ('Downloading HMDB database...')\n",
    "\n",
    "u = requests.get(\"http://www.hmdb.ca/system/downloads/current/hmdb_metabolites.zip\")\n",
    "with open(\"hmdb_metabolites.zip\", \"wb\") as f:\n",
    "    f.write(u.content)"
   ]
  },
  {
   "cell_type": "code",
   "execution_count": null,
   "metadata": {
    "collapsed": false
   },
   "outputs": [],
   "source": [
    "# HMDB-KEGG convertion dictionary\n",
    "print ('Found '+str(len(zf.ZipFile('hmdb_metabolites.zip').namelist()))+' entries')\n",
    "print ('Finding equivalents...')\n",
    "\n",
    "conv={}\n",
    "with zf.ZipFile('hmdb_metabolites.zip') as myzip:\n",
    "    for x in myzip.namelist():\n",
    "        if x != 'hmdb_metabolites.xml':\n",
    "            with myzip.open(x) as myfile:\n",
    "                root = ET.fromstring(myfile.read())\n",
    "                a = root.find('kegg_id').text\n",
    "                b = root.find('accession').text\n",
    "                if a != None:\n",
    "                    conv[b] = a.rstrip()\n",
    "                else:\n",
    "                    continue\n",
    "print ('Found '+str(len(conv))+' equivalents (HMDB-KEGG)')"
   ]
  },
  {
   "cell_type": "code",
   "execution_count": null,
   "metadata": {
    "collapsed": true
   },
   "outputs": [],
   "source": [
    "save_obj(conv, 'HMDB2KEGG')"
   ]
  },
  {
   "cell_type": "code",
   "execution_count": null,
   "metadata": {
    "collapsed": true
   },
   "outputs": [],
   "source": [
    "# Find LipidMaps dowload link\n",
    "a = requests.get('http://lipidmaps.org/resources/downloads/index.html').text\n",
    "b = a.splitlines()\n",
    "for x in b:\n",
    "    if '''.zip'>LMSDFDownload''' in x:\n",
    "        r = x.split('''.zip'>''')[1].split('<')[0]"
   ]
  },
  {
   "cell_type": "code",
   "execution_count": null,
   "metadata": {
    "collapsed": false
   },
   "outputs": [],
   "source": [
    "# Download LipipMaps database\n",
    "print ('')\n",
    "print ('Downloading LipidMaps database...')\n",
    "\n",
    "u = requests.get(\"http://lipidmaps.org/resources/downloads/\"+r)\n",
    "with open('LMSDF.zip', \"wb\") as f:\n",
    "    f.write(u.content)"
   ]
  },
  {
   "cell_type": "code",
   "execution_count": null,
   "metadata": {
    "collapsed": false
   },
   "outputs": [],
   "source": [
    "# LipidMaps-KEGG convertion dictionary\n",
    "d={}\n",
    "with zf.ZipFile('LMSDF.zip') as myzip:\n",
    "    for x in myzip.namelist():\n",
    "        if x.endswith('All.sdf'):      \n",
    "            with myzip.open(x) as myfile:\n",
    "                a = bytes.decode(myfile.read())\n",
    "                a = a.split('$$$$')\n",
    "                print ('Found '+str(len(a))+' entries.')\n",
    "                print ('Finding equivalents...')\n",
    "                for x in a:\n",
    "                    x = x.split('\\n\\n')\n",
    "                    for y in x:\n",
    "                        if y.startswith('> <KEGG_ID>'):\n",
    "                            if x[0].split('\\n')[1].startswith('  LIPDMAPS'): # Este if garante que o 1º elemento também é adicionado corretamente\n",
    "                                d[x[0].split('\\n')[0]] = y[len('> <KEGG_ID>\\n'):]\n",
    "                            else:\n",
    "                                d[x[0].split('\\n')[1]] = y[len('> <KEGG_ID>\\n'):]\n",
    "print ('Found '+str(len(d))+' equivalents (KEGG-LipidMaps)')"
   ]
  },
  {
   "cell_type": "code",
   "execution_count": null,
   "metadata": {
    "collapsed": true
   },
   "outputs": [],
   "source": [
    "d2 = {}\n",
    "for key in d:\n",
    "    d2[d[key]] = key"
   ]
  },
  {
   "cell_type": "code",
   "execution_count": null,
   "metadata": {
    "collapsed": true
   },
   "outputs": [],
   "source": [
    "save_obj(d, 'LM2KEGG')\n",
    "save_obj(d2, 'KEGG2LM')"
   ]
  },
  {
   "cell_type": "code",
   "execution_count": null,
   "metadata": {
    "collapsed": true
   },
   "outputs": [],
   "source": []
  }
 ],
 "metadata": {
  "anaconda-cloud": {},
  "kernelspec": {
   "display_name": "Python [Root]",
   "language": "python",
   "name": "Python [Root]"
  },
  "language_info": {
   "codemirror_mode": {
    "name": "ipython",
    "version": 3
   },
   "file_extension": ".py",
   "mimetype": "text/x-python",
   "name": "python",
   "nbconvert_exporter": "python",
   "pygments_lexer": "ipython3",
   "version": "3.5.2"
  }
 },
 "nbformat": 4,
 "nbformat_minor": 0
}
