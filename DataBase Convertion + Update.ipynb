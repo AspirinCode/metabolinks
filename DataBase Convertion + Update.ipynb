{
 "cells": [
  {
   "cell_type": "code",
   "execution_count": 1,
   "metadata": {
    "collapsed": false
   },
   "outputs": [],
   "source": [
    "import zipfile as zf\n",
    "import requests\n",
    "import xml.etree.ElementTree as ET\n",
    "import pickle"
   ]
  },
  {
   "cell_type": "code",
   "execution_count": 2,
   "metadata": {
    "collapsed": true
   },
   "outputs": [],
   "source": [
    "# Guardar dicionarios com o pickle\n",
    "def save_obj(obj, name):\n",
    "    with open(name + '.pkl', 'wb') as f:\n",
    "        pickle.dump(obj, f, pickle.HIGHEST_PROTOCOL)\n",
    "\n",
    "def load_obj(name):\n",
    "    with open(name + '.pkl', 'rb') as f:\n",
    "        return pickle.load(f)"
   ]
  },
  {
   "cell_type": "code",
   "execution_count": 3,
   "metadata": {
    "collapsed": false,
    "scrolled": true
   },
   "outputs": [
    {
     "name": "stdout",
     "output_type": "stream",
     "text": [
      "A fazer o download da base de dados do HMDB...\n"
     ]
    }
   ],
   "source": [
    "print ('A fazer o download da base de dados do HMDB...')\n",
    "\n",
    "u = requests.get(\"http://www.hmdb.ca/system/downloads/current/hmdb_metabolites.zip\")\n",
    "with open(\"hmdb_metabolites.zip\", \"wb\") as f:\n",
    "    f.write(u.content)"
   ]
  },
  {
   "cell_type": "code",
   "execution_count": 4,
   "metadata": {
    "collapsed": false
   },
   "outputs": [
    {
     "name": "stdout",
     "output_type": "stream",
     "text": [
      "A converter base de dados...\n",
      "De 41515 entradas, foram encontradas 7231 equivalências (KEGG-HMDB)\n"
     ]
    }
   ],
   "source": [
    "# Criar dicionário de conversão HMDB-KEGG\n",
    "print ('A converter base de dados...')\n",
    "\n",
    "conv={}\n",
    "with zf.ZipFile('hmdb_metabolites.zip') as myzip:\n",
    "    for x in myzip.namelist():\n",
    "        if x != 'hmdb_metabolites.xml':\n",
    "            with myzip.open(x) as myfile:\n",
    "                a = ET.fromstring(myfile.read())[36].text\n",
    "                if a != None and a.startswith('C'):\n",
    "                    conv[x[:9]] = a[:6] # alguns códigos kegg aparecem com ' ' (espaço) no final, é necessário truncar\n",
    "                else:\n",
    "                    continue\n",
    "print ('De '+str(len(zf.ZipFile('hmdb_metabolites.zip').namelist()))+' entradas, foram encontradas '+str(len(conv))+' equivalências (KEGG-HMDB)')"
   ]
  },
  {
   "cell_type": "code",
   "execution_count": 5,
   "metadata": {
    "collapsed": true
   },
   "outputs": [],
   "source": [
    "save_obj(conv, 'HMDB2KEGG')"
   ]
  },
  {
   "cell_type": "code",
   "execution_count": 6,
   "metadata": {
    "collapsed": true
   },
   "outputs": [],
   "source": [
    "# Encontrar o link do download\n",
    "a = requests.get('http://lipidmaps.org/resources/downloads/index.html').text\n",
    "b = a.splitlines()\n",
    "for x in b:\n",
    "    if '''.zip'>LMSDFDownload''' in x:\n",
    "        r = x.split('''.zip'>''')[1].split('<')[0]"
   ]
  },
  {
   "cell_type": "code",
   "execution_count": 7,
   "metadata": {
    "collapsed": false
   },
   "outputs": [
    {
     "name": "stdout",
     "output_type": "stream",
     "text": [
      "A fazer o download da base de dados do LipidMaps...\n"
     ]
    }
   ],
   "source": [
    "# Download da DB do LipipMaps\n",
    "print ('')\n",
    "print ('A fazer o download da base de dados do LipidMaps...')\n",
    "\n",
    "u = requests.get(\"http://lipidmaps.org/resources/downloads/\"+r)\n",
    "with open(r, \"wb\") as f:\n",
    "    f.write(u.content)"
   ]
  },
  {
   "cell_type": "code",
   "execution_count": 8,
   "metadata": {
    "collapsed": false
   },
   "outputs": [],
   "source": [
    "# Criar dicionário de conversão LipidMaps-KEGG\n",
    "d={}\n",
    "with zf.ZipFile(r) as myzip:\n",
    "    for x in myzip.namelist():\n",
    "        if x.endswith('All.sdf'):      \n",
    "            with myzip.open(x) as myfile:\n",
    "                a = bytes.decode(myfile.read())\n",
    "                a = a.split('$$$$')\n",
    "                for x in a:\n",
    "                    x = x.split('\\n\\n')\n",
    "                    for y in x:\n",
    "                        if y.startswith('> <KEGG_ID>'):\n",
    "                            if x[0].split('\\n')[1].startswith('  LIPDMAPS'): # Este if garante que o 1º elemento também é adicionado corretamente\n",
    "                                d[x[0].split('\\n')[0]] = y[len('> <KEGG_ID>\\n'):]\n",
    "                            else:\n",
    "                                d[x[0].split('\\n')[1]] = y[len('> <KEGG_ID>\\n'):]"
   ]
  },
  {
   "cell_type": "code",
   "execution_count": 9,
   "metadata": {
    "collapsed": false
   },
   "outputs": [
    {
     "name": "stdout",
     "output_type": "stream",
     "text": [
      "De 40720 entradas, foram encontradas 1489 equivalências (KEGG-LipidMaps)\n"
     ]
    }
   ],
   "source": [
    "# Criar dicionário de conversão KEGG-LipidMaps\n",
    "d2={}\n",
    "with zf.ZipFile(r) as myzip:\n",
    "    for x in myzip.namelist():\n",
    "        if x.endswith('All.sdf'):      \n",
    "            with myzip.open(x) as myfile:\n",
    "                a = bytes.decode(myfile.read())\n",
    "                a = a.split('$$$$')\n",
    "                for x in a:\n",
    "                    x = x.split('\\n\\n')\n",
    "                    for y in x:\n",
    "                        if y.startswith('> <KEGG_ID>'):\n",
    "                            if x[0].split('\\n')[1].startswith('  LIPDMAPS'): # Este if garante que o 1º elemento também é adicionado corretamente\n",
    "                                d2[y[len('> <KEGG_ID>\\n'):]] = x[0].split('\\n')[0]\n",
    "                            else:\n",
    "                                d2[y[len('> <KEGG_ID>\\n'):]] = x[0].split('\\n')[1]\n",
    "print ('De '+str(len(a))+' entradas, foram encontradas '+str(len(d))+' equivalências (KEGG-LipidMaps)')"
   ]
  },
  {
   "cell_type": "code",
   "execution_count": 10,
   "metadata": {
    "collapsed": true
   },
   "outputs": [],
   "source": [
    "save_obj(d, 'LM2KEGG')\n",
    "save_obj(d2, 'KEGG2LM')"
   ]
  }
 ],
 "metadata": {
  "anaconda-cloud": {},
  "kernelspec": {
   "display_name": "Python [Root]",
   "language": "python",
   "name": "Python [Root]"
  },
  "language_info": {
   "codemirror_mode": {
    "name": "ipython",
    "version": 3
   },
   "file_extension": ".py",
   "mimetype": "text/x-python",
   "name": "python",
   "nbconvert_exporter": "python",
   "pygments_lexer": "ipython3",
   "version": "3.5.2"
  }
 },
 "nbformat": 4,
 "nbformat_minor": 0
}
