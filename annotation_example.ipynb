{
 "cells": [
  {
   "cell_type": "code",
   "execution_count": null,
   "metadata": {
    "collapsed": true
   },
   "outputs": [],
   "source": [
    "from __future__ import print_function\n",
    "import time\n",
    "\n",
    "import pandas as pd\n",
    "\n",
    "from masstrix import read_MassTRIX\n",
    "from annotations import annotate_df, load_local_kegg_db"
   ]
  },
  {
   "cell_type": "code",
   "execution_count": null,
   "metadata": {
    "collapsed": false
   },
   "outputs": [],
   "source": [
    "print ('Starting...\\n')\n",
    "start_time = time.time()\n",
    "\n",
    "testfile_name = 'example_data/MassTRIX_output.tsv'\n",
    "\n",
    "df = read_MassTRIX(testfile_name)\n",
    "print (\"File {} was read\\n\".format(testfile_name))\n",
    "\n",
    "# Retira as colunas 9 a 20, que não são necessárias\n",
    "# Exprimentei df.drop(df.columns[['nome', 'nome 2', ..., 'nome n']], axis=1, inplace=True) mas não resulta\n",
    "df.drop(df.columns[[9, 10, 11, 12, 13, 14, 15, 16, 17, 18, 19, 20]], axis=1, inplace=True)\n",
    "\n",
    "# check result\n",
    "df.info() # assert that there are 15 entries and 24 - 12 = 12 columns\n",
    "#print(df.head(2))"
   ]
  },
  {
   "cell_type": "code",
   "execution_count": null,
   "metadata": {
    "collapsed": false
   },
   "outputs": [],
   "source": [
    "print ('Starting annotating...\\n')\n",
    "\n",
    "kegg_db = None\n",
    "# Use a local Kegg DB.\n",
    "# IMPORTANT: Comment this line to fetch Kegg records from server\n",
    "kegg_db = load_local_kegg_db('kegg_db.txt')\n",
    "\n",
    "\n",
    "# Call the main driver function.\n",
    "# Use trace=True as arg to activate tracing of annotations.\n",
    "df = annotate_df(df, local_kegg_db=kegg_db)"
   ]
  },
  {
   "cell_type": "code",
   "execution_count": null,
   "metadata": {
    "collapsed": false
   },
   "outputs": [],
   "source": [
    "elapsed_time = time.time() - start_time\n",
    "m, s = divmod(elapsed_time, 60)\n",
    "\n",
    "print (\"Finished in \" + \"%02dm%02ds\" % (m, s))\n",
    "\n",
    "# Export the annotated dataframe into a MS-Excel file\n",
    "# Name it with the same name as the .tsv, replacing tail with '_raw.xlsx'\n",
    "out_fname = testfile_name[:-4]+'_raw.xlsx'\n",
    "writer = pd.ExcelWriter(out_fname)\n",
    "df.to_excel(writer, header=True, index=False)\n",
    "writer.save()\n",
    "print('------------------------------------')\n",
    "print (\"File {} written\".format(out_fname))"
   ]
  }
 ],
 "metadata": {
  "anaconda-cloud": {},
  "kernelspec": {
   "display_name": "Python [Root]",
   "language": "python",
   "name": "Python [Root]"
  },
  "language_info": {
   "codemirror_mode": {
    "name": "ipython",
    "version": 3
   },
   "file_extension": ".py",
   "mimetype": "text/x-python",
   "name": "python",
   "nbconvert_exporter": "python",
   "pygments_lexer": "ipython3",
   "version": "3.5.2"
  }
 },
 "nbformat": 4,
 "nbformat_minor": 0
}
