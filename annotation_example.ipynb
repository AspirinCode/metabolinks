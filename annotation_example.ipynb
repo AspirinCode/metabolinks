{
 "cells": [
  {
   "cell_type": "code",
   "execution_count": 1,
   "metadata": {
    "collapsed": true
   },
   "outputs": [],
   "source": [
    "from __future__ import print_function\n",
    "import time\n",
    "import json\n",
    "\n",
    "import requests\n",
    "import pandas as pd\n",
    "\n",
    "import tkinter as tk\n",
    "from tkinter import filedialog\n",
    "\n",
    "from six import StringIO"
   ]
  },
  {
   "cell_type": "code",
   "execution_count": 2,
   "metadata": {
    "collapsed": false
   },
   "outputs": [],
   "source": [
    "# Code related to Kegg compound records\n",
    "\n",
    "def get_kegg_section(k_record, sname):\n",
    "    \"\"\"Get the section with name _sname_ from a kegg compound record.\n",
    "    \n",
    "       Returns a str, possibly empty.\"\"\"\n",
    "    \n",
    "    in_section = False\n",
    "    section = []\n",
    "    \n",
    "    for line in k_record.splitlines():\n",
    "        if line.startswith(sname):\n",
    "            in_section = True\n",
    "            section.append(line)\n",
    "        elif in_section and line.startswith(' '):\n",
    "            section.append(line)\n",
    "        elif in_section and not line.startswith(' '):\n",
    "            break\n",
    "\n",
    "    sectionlines = [line[12:] for line in section]\n",
    "    return '\\n'.join(sectionlines)\n",
    "\n",
    "\n",
    "def get_kegg_records(db_fname):\n",
    "    \"\"\"Load Kegg compound records from a local text DB.\"\"\"\n",
    "    kegg = {}\n",
    "    db = open(db_fname)\n",
    "    curr_c = None\n",
    "    curr_txt = None\n",
    "    for line in db:\n",
    "        if len(line.strip()) == 0:\n",
    "            continue\n",
    "        if line.startswith('---- Compound:'):\n",
    "            if curr_c is not None:\n",
    "                whole_rec = ''.join(curr_txt)\n",
    "                kegg[curr_c] = whole_rec\n",
    "            curr_c = line.split(':')[1].strip()\n",
    "            curr_txt = []\n",
    "        elif curr_c is not None:\n",
    "            curr_txt.append(line)\n",
    "    whole_rec = ''.join(curr_txt)\n",
    "    kegg[curr_c] = whole_rec\n",
    "    db.close()\n",
    "    return kegg\n",
    "\n",
    "\n",
    "def get_dblinks_brite_sections(k_record):\n",
    "    \"\"\"Get sections DBLINKS and BRITE from a kegg compound record.\n",
    "    \n",
    "       Returns a dict.\"\"\"\n",
    "    \n",
    "    dblinks = get_kegg_section(k_record, 'DBLINKS')\n",
    "    brite = get_kegg_section(k_record, 'BRITE')\n",
    "    return {'DBLINKS':dblinks, 'BRITE':brite}"
   ]
  },
  {
   "cell_type": "code",
   "execution_count": 3,
   "metadata": {
    "collapsed": true
   },
   "outputs": [],
   "source": [
    "#def get_kegg_record(c, fstore=None):\n",
    "    #krecord = requests.get('http://rest.kegg.jp/get/' + c).text\n",
    "    #if fstore is not None:\n",
    "        #fstore.write('\\n---- Compound: {}\\n{}'.format(c, krecord))\n",
    "    #return krecord\n",
    "\n",
    "def get_kegg_record(c_id, localdict=None):\n",
    "    if localdict is not None:\n",
    "        return localdict[c_id]\n",
    "    return requests.get('http://rest.kegg.jp/get/' + c_id).text\n",
    "\n",
    "def get_lipidmaps_record(lm_id):\n",
    "    return requests.get('http://www.lipidmaps.org/rest/compound/lm_id/' + lm_id + '/all/json').text"
   ]
  },
  {
   "cell_type": "code",
   "execution_count": 4,
   "metadata": {
    "collapsed": true
   },
   "outputs": [],
   "source": [
    "# Helper. No used in example code (file names are hard coded).\n",
    "def get_filename_using_tk():\n",
    "    \"\"\"Choose a filename using Tk\"\"\"\n",
    "    root = tk.Tk()\n",
    "    root.withdraw()\n",
    "    fname = filedialog.askopenfilename(filetypes = [(\"TSV\",\"*.tsv\")])\n",
    "    print ('Selected file {}'.format(fname))\n",
    "    return fname"
   ]
  },
  {
   "cell_type": "code",
   "execution_count": 5,
   "metadata": {
    "collapsed": true
   },
   "outputs": [],
   "source": [
    "def readMassTRIX(fname):\n",
    "    \"\"\"Reads a MassTRIX file into a Pandas DataFrame object.\n",
    "       \n",
    "       On the process, the last line is moved to the beginning and becomes the header.\"\"\"\n",
    "    \n",
    "    # store lines in a list\n",
    "    with open(fname) as f:\n",
    "        lines = [line.strip() for line in f]\n",
    "    \n",
    "    # move the last line to the beginning\n",
    "    moved_list = [lines[-1]]\n",
    "    moved_list.extend(lines[:-1]) # last line is not included\n",
    "\n",
    "    # create a Pandas DataFrame, reading from the list of strings in memory\n",
    "    mem_string = StringIO('\\n'.join(moved_list))\n",
    "    df = pd.read_table(mem_string)\n",
    "    return df"
   ]
  },
  {
   "cell_type": "code",
   "execution_count": 6,
   "metadata": {
    "collapsed": true
   },
   "outputs": [],
   "source": [
    "class Progress(object):\n",
    "    \"\"\"A progress reporter of % done for a maximum (int) of self.total\"\"\"\n",
    "    def __init__(self, n_total=1):\n",
    "        self.total = n_total\n",
    "        self.count = 0\n",
    "    def tick(self):\n",
    "        self.count +=1\n",
    "        print(str(round((1-((self.total-self.count)/self.total))*100)) + \"% done\")"
   ]
  },
  {
   "cell_type": "code",
   "execution_count": 7,
   "metadata": {
    "collapsed": false
   },
   "outputs": [
    {
     "name": "stdout",
     "output_type": "stream",
     "text": [
      "Starting...\n",
      "\n"
     ]
    }
   ],
   "source": [
    "print ('Starting...\\n')\n",
    "start_time = time.time()"
   ]
  },
  {
   "cell_type": "code",
   "execution_count": 8,
   "metadata": {
    "collapsed": true
   },
   "outputs": [],
   "source": [
    "kegg_db = get_kegg_records('kegg_db.txt')"
   ]
  },
  {
   "cell_type": "code",
   "execution_count": 9,
   "metadata": {
    "collapsed": true
   },
   "outputs": [],
   "source": [
    "testfile_name = 'example_data/MassTRIX_output.tsv'"
   ]
  },
  {
   "cell_type": "code",
   "execution_count": 10,
   "metadata": {
    "collapsed": false
   },
   "outputs": [
    {
     "name": "stdout",
     "output_type": "stream",
     "text": [
      "<class 'pandas.core.frame.DataFrame'>\n",
      "RangeIndex: 15 entries, 0 to 14\n",
      "Data columns (total 12 columns):\n",
      "raw_mass                      15 non-null float64\n",
      "peak_height                   15 non-null float64\n",
      "corrected_mass                15 non-null float64\n",
      "npossible                     15 non-null int64\n",
      "KEGG_mass                     15 non-null object\n",
      "ppm                           15 non-null object\n",
      "KEGG_cid                      15 non-null object\n",
      "KEGG_formula                  15 non-null object\n",
      "KEGG_name                     15 non-null object\n",
      "KEGG Pathways                 15 non-null object\n",
      "KEGG Pathways descriptions    15 non-null object\n",
      "Compound in Organism(X)       15 non-null object\n",
      "dtypes: float64(3), int64(1), object(8)\n",
      "memory usage: 1.5+ KB\n",
      "    raw_mass  peak_height  corrected_mass  npossible  \\\n",
      "0  133.08577          0.0      132.078494         26   \n",
      "1  149.01145          0.0      110.048291          3   \n",
      "\n",
      "                                           KEGG_mass  \\\n",
      "0  133.085920710401#133.085920710401#133.08592071...   \n",
      "1  149.011172241631#149.011172241631#149.01117224...   \n",
      "\n",
      "                                                 ppm  \\\n",
      "0  -1.1324306198618#-1.1324306198618#-1.132430619...   \n",
      "1  1.86400688677955#1.86400688677955#1.8640068867...   \n",
      "\n",
      "                                            KEGG_cid  \\\n",
      "0  C03264#C03499#C06103#C07834#HMDB00317#HMDB0040...   \n",
      "1                            C02560#C05130#HMDB03905   \n",
      "\n",
      "                                        KEGG_formula  \\\n",
      "0  C6H12O3#C6H12O3#C6H12O3#C6H12O3#C6H12O3#C6H12O...   \n",
      "1                            C5H6N2O#C5H6N2O#C5H6N2O   \n",
      "\n",
      "                                           KEGG_name  \\\n",
      "0  D-2-Hydroxyisocaproate ([M+H]+)#Ethyl (R)-3-hy...   \n",
      "1  N-Acetylimidazole ([M+K39]+)#Imidazole-4-aceta...   \n",
      "\n",
      "                                       KEGG Pathways  \\\n",
      "0  null#null#ko00930#null#null#null#null#null#nul...   \n",
      "1                                  null#ko00340#null   \n",
      "\n",
      "                          KEGG Pathways descriptions  \\\n",
      "0  null#null#;Caprolactam degradation#null#null#n...   \n",
      "1                    null#;Histidine metabolism#null   \n",
      "\n",
      "                             Compound in Organism(X)  \n",
      "0  null#null#null#null#null#null#null#null#null#n...  \n",
      "1                                     null#null#null  \n"
     ]
    }
   ],
   "source": [
    "df = readMassTRIX(testfile_name)\n",
    "\n",
    "# Retira as colunas 9 a 20, que não são necessárias\n",
    "# Exprimentei df.drop(df.columns[['nome', 'nome 2', ..., 'nome n']], axis=1, inplace=True) mas não resulta\n",
    "df.drop(df.columns[[9, 10, 11, 12, 13, 14, 15, 16, 17, 18, 19, 20]], axis=1, inplace=True)\n",
    "\n",
    "# check result\n",
    "df.info() # assert that there are 15 entries and 24 - 12 = 12 columns\n",
    "print(df.head(2))"
   ]
  },
  {
   "cell_type": "code",
   "execution_count": 11,
   "metadata": {
    "collapsed": false
   },
   "outputs": [],
   "source": [
    "def classes_from_kegg(c):\n",
    "    krecord = get_kegg_record(c, localdict = kegg_db)\n",
    "    \n",
    "    brite = get_kegg_section(krecord, 'BRITE')\n",
    "    dblinks = get_kegg_section(krecord, 'DBLINKS')\n",
    "    \n",
    "    if len(brite) == 0:\n",
    "        if 'LIPIDMAPS:' in dblinks:\n",
    "            for line in dblinks.splitlines():\n",
    "                if 'LIPIDMAPS:' in line:\n",
    "                    lm_id = line.split(':')[1].strip()\n",
    "                    a = classes_from_lipidmaps(lm_id)\n",
    "                    return a\n",
    "        else:\n",
    "            print ('No BRITE, no LIPIDMAPS')\n",
    "            return None\n",
    "    else:\n",
    "        classes = [[], [], [], []]\n",
    "        \n",
    "        k = krecord.split('BRIT', 1)[1]\n",
    "        k = k.split('DBLINKS', 1)[0]\n",
    "        k = k.splitlines()\n",
    "        l = []\n",
    "        for x in k:\n",
    "            if x.startswith('E       '):\n",
    "                l.append('            ' + x[len('E       '):])\n",
    "            else:\n",
    "                l.append(x)\n",
    "        l = \"\\n\".join(l)\n",
    "        \n",
    "        l = l.split('           ')[1:]\n",
    "        p = []\n",
    "        for x in l:\n",
    "            if not x.startswith('  '):\n",
    "                x = ('??'+x)\n",
    "                p.append(x)\n",
    "            else:\n",
    "                p.append(x)\n",
    "        p = \"\".join(p)\n",
    "        p = p.split('??')\n",
    "        p = \"\\n\".join(p)\n",
    "        p = p.splitlines()\n",
    "        for x in p:\n",
    "            if x.startswith(' ') and not x.startswith('  '):\n",
    "                classes[0].append(x[1:])\n",
    "            elif x.startswith('  ') and not x.startswith('   '):\n",
    "                classes[1].append(x[2:])\n",
    "            elif x.startswith('   ') and not x.startswith('    '):\n",
    "                classes[2].append(x[3:])\n",
    "            elif x.startswith('    ') and not x.startswith('     '):\n",
    "                classes[3].append(x[4:])\n",
    "        \n",
    "        classes = ['#'.join(c) for c in classes]\n",
    "        print ('from BRITE:')\n",
    "        print(tuple(classes))\n",
    "        return tuple(classes)"
   ]
  },
  {
   "cell_type": "code",
   "execution_count": 12,
   "metadata": {
    "collapsed": true
   },
   "outputs": [],
   "source": [
    "# Anota os compostos do LipidMaps\n",
    "def classes_from_lipidmaps(lm_id):\n",
    "    print('LIPIDMAPS id: {}'.format(lm_id))\n",
    "    f = requests.get('http://www.lipidmaps.org/rest/compound/lm_id/' + lm_id + '/all/json').text\n",
    "    s = json.loads(f)\n",
    "    if f == '[]':\n",
    "        return 'null', 'null', 'null', 'null'\n",
    "    mm = 'Lipids [LM]'\n",
    "    cc = s['core'] if s['core'] is not None else 'null'\n",
    "    ss = s['main_class'] if s['main_class'] is not None else 'null'\n",
    "    tt = s['sub_class'] if s['sub_class'] is not None else 'null'\n",
    "    a = (mm, cc, ss, tt)\n",
    "    print(a)\n",
    "    return a "
   ]
  },
  {
   "cell_type": "code",
   "execution_count": 13,
   "metadata": {
    "collapsed": true
   },
   "outputs": [],
   "source": [
    "def annotate_classes(x):\n",
    "    \"\"\"Create Pandas Series with compound class annotations.\n",
    "       \n",
    "       Information is fetched from Kegg or LIPIDMAPS, according to first\n",
    "       letter of compound Id.\"\"\"\n",
    "    \n",
    "    classes = [[], [], [], []]\n",
    "    for y in x.split('#'):\n",
    "        print('\\n---- compound: {}'.format(y), end=\" \")\n",
    "        if y.startswith('C'):\n",
    "            k_classes = classes_from_kegg(y)\n",
    "            if k_classes is not None :\n",
    "                for c, k in zip(classes, k_classes):\n",
    "                    c.append(k)\n",
    "        elif y.startswith('L'):\n",
    "            lipid_classes = classes_from_lipidmaps(y)\n",
    "            for c, k in zip(classes, lipid_classes):\n",
    "                c.append(k)\n",
    "        else:\n",
    "            continue\n",
    "    progress.tick()\n",
    "    \n",
    "    classes = ['#'.join(set(c)) for c in classes]    \n",
    "    return pd.Series(classes, index=['Major Class', 'Class', 'Secondary Class', 'Tertiary Class'])"
   ]
  },
  {
   "cell_type": "code",
   "execution_count": 14,
   "metadata": {
    "collapsed": true
   },
   "outputs": [],
   "source": [
    "def is_in_plants(c):\n",
    "    \"\"\"Annotates the presence in plants, by using information in KNApSAcK DB.\"\"\"\n",
    "    m = get_kegg_record(c, localdict = kegg_db)\n",
    "    #m = requests.get('http://rest.kegg.jp/get/' + c).text\n",
    "    dblinks = get_kegg_section(m, 'DBLINKS')\n",
    "    if 'KNApSAcK' in dblinks:\n",
    "        for line in dblinks.splitlines():\n",
    "            if 'KNApSAcK:' in line:\n",
    "                ks_id = line.split(':')[1].strip()\n",
    "                r = requests.post('http://kanaya.naist.jp/knapsack_jsp/information.jsp?sname=C_ID&word=' + ks_id)\n",
    "                result = 'Plantae' if 'Plantae' in r.text else ''\n",
    "                return result\n",
    "    return ''\n",
    "\n",
    "def knapsack_plants(x):\n",
    "    knapsack=[]\n",
    "    for y in x.split('#'):\n",
    "        if y.startswith('C'):\n",
    "            knapsack.append(is_in_plants(y))\n",
    "    # clear_output()\n",
    "    progress.tick()\n",
    "    return \"\".join(set(knapsack))"
   ]
  },
  {
   "cell_type": "code",
   "execution_count": 15,
   "metadata": {
    "collapsed": false
   },
   "outputs": [],
   "source": [
    "# Load ID translation tables as dicts\n",
    "# Use local files, (fetched by fetch_dbs.py)\n",
    "def get_trans_id_table(fname):\n",
    "    d = {}\n",
    "    with open(fname) as f:\n",
    "        # hmdb:HMDB00002 \\t cpd:C00986 \\t equivalent\n",
    "        for line in f:\n",
    "            if len(line) == 0:\n",
    "                continue\n",
    "            foreign, cpd, equiv = line.split('\\t')\n",
    "            foreign = foreign.split(':')[1].strip()\n",
    "            cpd = cpd.split(':')[1].strip()\n",
    "            d[foreign] = cpd\n",
    "    return d\n",
    "\n",
    "hmdb2kegg_dict = get_trans_id_table('trans_hmdb2kegg.txt')\n",
    "lipidmaps2kegg_dict = get_trans_id_table('trans_lipidmaps2kegg.txt')\n",
    "\n",
    "kegg2lipidmaps_dict = {}\n",
    "for k, v in lipidmaps2kegg_dict.items():\n",
    "    kegg2lipidmaps_dict[v] = k"
   ]
  },
  {
   "cell_type": "code",
   "execution_count": 16,
   "metadata": {
    "collapsed": true
   },
   "outputs": [],
   "source": [
    "# Criar coluna de conversão HMDB to KEGG\n",
    "def translate_id(x, tdict):\n",
    "    convert=[]\n",
    "    for y in x.split('#'):\n",
    "        if y in tdict:\n",
    "            convert.append(tdict[y])\n",
    "        else:\n",
    "            convert.append(y)\n",
    "    return \"#\".join(convert)"
   ]
  },
  {
   "cell_type": "code",
   "execution_count": 17,
   "metadata": {
    "collapsed": false
   },
   "outputs": [],
   "source": [
    "# Criar coluna de conversão HMDB to KEGG\n",
    "def hmdb2kegg(x):\n",
    "    convert=[]\n",
    "    for y in x.split('#'):\n",
    "        if y in hmdb2kegg_dict:\n",
    "            convert.append(hmdb2kegg_dict[y])\n",
    "        else:\n",
    "            convert.append(y)\n",
    "    return \"#\".join(convert)"
   ]
  },
  {
   "cell_type": "code",
   "execution_count": 18,
   "metadata": {
    "collapsed": true
   },
   "outputs": [],
   "source": [
    "# Criar coluna de conversão KEGG para Lipid Maps\n",
    "def kegg2lipidmaps(x):\n",
    "    convert=[]\n",
    "    for y in x.split('#'):\n",
    "        if y in kegg2lipidmaps_dict:\n",
    "            convert.append(kegg2lipidmaps_dict[y])\n",
    "        else:\n",
    "            convert.append(y)\n",
    "    return \"#\".join(convert)"
   ]
  },
  {
   "cell_type": "code",
   "execution_count": 19,
   "metadata": {
    "collapsed": true
   },
   "outputs": [],
   "source": [
    "# Criar coluna de convertidos KEGG para Lipid Maps\n",
    "def lipidmaps2kegg(x):\n",
    "    convert=[]\n",
    "    for y in x.split('#'):\n",
    "        if y in lipidmaps2kegg_dict:\n",
    "            convert.append(lipidmaps2kegg_dict[y])\n",
    "        else:\n",
    "            convert.append(y)\n",
    "    return \"#\".join(convert)"
   ]
  },
  {
   "cell_type": "code",
   "execution_count": 20,
   "metadata": {
    "collapsed": false
   },
   "outputs": [],
   "source": [
    "# Object to report progress of annotations. It is a two-pass job.\n",
    "progress = Progress(len(df['raw_mass']) * 2)"
   ]
  },
  {
   "cell_type": "code",
   "execution_count": 21,
   "metadata": {
    "collapsed": false
   },
   "outputs": [],
   "source": [
    "# Converte os códigos HMDB para KEGG, se possivél, através do dicionário \"hmdb2kegg\"\n",
    "#df['HMDB_2_KEGG'] = df['KEGG_cid'].apply(translate_id, args=(dic,))\n",
    "df['HMDB_2_KEGG'] = df['KEGG_cid'].apply(hmdb2kegg)\n",
    "\n",
    "# Converte os códigos KEGG para Lipid Maps, se possível, através do dicionário \"kegg2lipidmaps\"\n",
    "df['KEGG_2_LipidMaps'] = df['HMDB_2_KEGG'].apply(kegg2lipidmaps)\n",
    "\n",
    "# Converte os códigos Lipid Maps para KEGG, se possível, através do dicionário \"lipidmaps2kegg\"\n",
    "df['LipidMaps_2_KEGG'] = df['HMDB_2_KEGG'].apply(lipidmaps2kegg)"
   ]
  },
  {
   "cell_type": "code",
   "execution_count": 22,
   "metadata": {
    "collapsed": false
   },
   "outputs": [
    {
     "name": "stdout",
     "output_type": "stream",
     "text": [
      "Created translation columns in 00m02s\n"
     ]
    }
   ],
   "source": [
    "elapsed_time = time.time() - start_time\n",
    "m, s = divmod(elapsed_time, 60)\n",
    "print (\"Created translation columns in \" + \"%02dm%02ds\" % (m, s))"
   ]
  },
  {
   "cell_type": "code",
   "execution_count": 23,
   "metadata": {
    "collapsed": false
   },
   "outputs": [
    {
     "name": "stdout",
     "output_type": "stream",
     "text": [
      "\n",
      "---- compound: C03264 LIPIDMAPS id: LMFA01050402\n",
      "('Lipids [LM]', 'Fatty Acyls [FA]', 'Fatty Acids and Conjugates [FA01]', 'Hydroxy fatty acids [FA0105]')\n",
      "\n",
      "---- compound: C03499 No BRITE, no LIPIDMAPS\n",
      "\n",
      "---- compound: C06103 from BRITE:\n",
      "('Lipids [BR:br08002]', 'FA  Fatty acyls', 'FA01 Fatty Acids and Conjugates', 'FA0105 Hydroxy fatty acids')\n",
      "\n",
      "---- compound: C07834 from BRITE:\n",
      "('Anatomical Therapeutic Chemical (ATC) classification [BR:br08303]', 'N NERVOUS SYSTEM', 'N05 PSYCHOLEPTICS', 'N05C HYPNOTICS AND SEDATIVES')\n",
      "\n",
      "---- compound: HMDB00317 \n",
      "---- compound: HMDB00409 \n",
      "---- compound: HMDB00525 \n",
      "---- compound: C03264 LIPIDMAPS id: LMFA01050402\n",
      "('Lipids [LM]', 'Fatty Acyls [FA]', 'Fatty Acids and Conjugates [FA01]', 'Hydroxy fatty acids [FA0105]')\n",
      "\n",
      "---- compound: HMDB00665 \n",
      "---- compound: HMDB00746 \n",
      "---- compound: HMDB01624 \n",
      "---- compound: HMDB01975 \n",
      "---- compound: HMDB10718 \n",
      "---- compound: HMDB12843 \n",
      "---- compound: LMFA01050011 LIPIDMAPS id: LMFA01050011\n",
      "('Lipids [LM]', 'Fatty Acyls [FA]', 'Fatty Acids and Conjugates [FA01]', 'Hydroxy fatty acids [FA0105]')\n",
      "\n",
      "---- compound: LMFA01050012 LIPIDMAPS id: LMFA01050012\n",
      "('Lipids [LM]', 'Fatty Acyls [FA]', 'Fatty Acids and Conjugates [FA01]', 'Hydroxy fatty acids [FA0105]')\n",
      "\n",
      "---- compound: LMFA01050013 LIPIDMAPS id: LMFA01050013\n",
      "('Lipids [LM]', 'Fatty Acyls [FA]', 'Fatty Acids and Conjugates [FA01]', 'Hydroxy fatty acids [FA0105]')\n",
      "\n",
      "---- compound: LMFA01050014 LIPIDMAPS id: LMFA01050014\n",
      "('Lipids [LM]', 'Fatty Acyls [FA]', 'Fatty Acids and Conjugates [FA01]', 'Hydroxy fatty acids [FA0105]')\n",
      "\n",
      "---- compound: LMFA01050015 LIPIDMAPS id: LMFA01050015\n",
      "('Lipids [LM]', 'Fatty Acyls [FA]', 'Fatty Acids and Conjugates [FA01]', 'Hydroxy fatty acids [FA0105]')\n",
      "\n",
      "---- compound: LMFA01050376 LIPIDMAPS id: LMFA01050376\n",
      "('Lipids [LM]', 'Fatty Acyls [FA]', 'Fatty Acids and Conjugates [FA01]', 'Hydroxy fatty acids [FA0105]')\n",
      "\n",
      "---- compound: LMFA01050377 LIPIDMAPS id: LMFA01050377\n",
      "('Lipids [LM]', 'Fatty Acyls [FA]', 'Fatty Acids and Conjugates [FA01]', 'Hydroxy fatty acids [FA0105]')\n",
      "\n",
      "---- compound: LMFA01050380 LIPIDMAPS id: LMFA01050380\n",
      "('Lipids [LM]', 'Fatty Acyls [FA]', 'Fatty Acids and Conjugates [FA01]', 'Hydroxy fatty acids [FA0105]')\n",
      "\n",
      "---- compound: LMFA01050381 LIPIDMAPS id: LMFA01050381\n",
      "('Lipids [LM]', 'Fatty Acyls [FA]', 'Fatty Acids and Conjugates [FA01]', 'Hydroxy fatty acids [FA0105]')\n",
      "\n",
      "---- compound: LMFA01050387 LIPIDMAPS id: LMFA01050387\n",
      "('Lipids [LM]', 'Fatty Acyls [FA]', 'Fatty Acids and Conjugates [FA01]', 'Hydroxy fatty acids [FA0105]')\n",
      "\n",
      "---- compound: LMFA01050402 LIPIDMAPS id: LMFA01050402\n",
      "('Lipids [LM]', 'Fatty Acyls [FA]', 'Fatty Acids and Conjugates [FA01]', 'Hydroxy fatty acids [FA0105]')\n",
      "\n",
      "---- compound: LMFA01050408 LIPIDMAPS id: LMFA01050408\n",
      "('Lipids [LM]', 'Fatty Acyls [FA]', 'Fatty Acids and Conjugates [FA01]', 'Hydroxy fatty acids [FA0105]')\n",
      "3% done\n",
      "\n",
      "---- compound: C02560 No BRITE, no LIPIDMAPS\n",
      "\n",
      "---- compound: C05130 No BRITE, no LIPIDMAPS\n",
      "\n",
      "---- compound: C05130 No BRITE, no LIPIDMAPS\n",
      "7% done\n",
      "\n",
      "---- compound: C00785 No BRITE, no LIPIDMAPS\n",
      "\n",
      "---- compound: C02126 No BRITE, no LIPIDMAPS\n",
      "\n",
      "---- compound: C00785 No BRITE, no LIPIDMAPS\n",
      "\n",
      "---- compound: HMDB02730 10% done\n",
      "\n",
      "---- compound: C17512 No BRITE, no LIPIDMAPS\n",
      "13% done\n",
      "\n",
      "---- compound: C00604 No BRITE, no LIPIDMAPS\n",
      "\n",
      "---- compound: C11224 from BRITE:\n",
      "('Pesticides [BR:br08007]', 'Obsolete pesticides', 'Herbicides', 'Phenylurea herbicides')\n",
      "\n",
      "---- compound: HMDB12246 17% done\n",
      "\n",
      "---- compound: C01056 No BRITE, no LIPIDMAPS\n",
      "\n",
      "---- compound: C03043 No BRITE, no LIPIDMAPS\n",
      "\n",
      "---- compound: C16569 No BRITE, no LIPIDMAPS\n",
      "\n",
      "---- compound: HMDB01240 \n",
      "---- compound: HMDB01329 \n",
      "---- compound: HMDB01497 \n",
      "---- compound: C10963 from BRITE:\n",
      "('Pesticides [BR:br08007]', 'Pesticides', 'Herbicides', 'Uracil herbicides')\n",
      "20% done\n",
      "\n",
      "---- compound: C05636 No BRITE, no LIPIDMAPS\n",
      "\n",
      "---- compound: C05638 No BRITE, no LIPIDMAPS\n",
      "\n",
      "---- compound: C12033 No BRITE, no LIPIDMAPS\n",
      "\n",
      "---- compound: C05638 No BRITE, no LIPIDMAPS\n",
      "\n",
      "---- compound: HMDB13319 23% done\n",
      "\n",
      "---- compound: C06537 No BRITE, no LIPIDMAPS\n",
      "\n",
      "---- compound: C14742 from BRITE:\n",
      "('Carcinogens [BR:br08008]', 'Group 3: Not classifiable as to its carcinogenicity to humans', 'Compounds', 'C14742  N-Nitrosodiphenylamine')\n",
      "\n",
      "---- compound: C15042 No BRITE, no LIPIDMAPS\n",
      "27% done\n",
      "\n",
      "---- compound: C01748 No BRITE, no LIPIDMAPS\n",
      "\n",
      "---- compound: C06538 from BRITE:\n",
      "('Phytochemical compounds [BR:br08003]', 'Alkaloids', 'Alkaloids derived from tryptophan and anthranilic acid', 'Indole alkaloids')\n",
      "\n",
      "---- compound: C13311 No BRITE, no LIPIDMAPS\n",
      "30% done\n",
      "\n",
      "---- compound: C14274 No BRITE, no LIPIDMAPS\n",
      "\n",
      "---- compound: C14718 No BRITE, no LIPIDMAPS\n",
      "33% done\n",
      "\n",
      "---- compound: C11082 No BRITE, no LIPIDMAPS\n",
      "37% done\n",
      "\n",
      "---- compound: C07499 No BRITE, no LIPIDMAPS\n",
      "\n",
      "---- compound: C12590 from BRITE:\n",
      "('Anatomical Therapeutic Chemical (ATC) classification [BR:br08303]', 'N NERVOUS SYSTEM', 'N03 ANTIEPILEPTICS', 'N03A ANTIEPILEPTICS')\n",
      "40% done\n",
      "\n",
      "---- compound: C05761 from BRITE:\n",
      "('Lipids [BR:br08002]', 'FA  Fatty acyls', 'FA07 Fatty esters', 'FA0706 Fatty acyl ACPs')\n",
      "43% done\n",
      "\n",
      "---- compound: C00647 No BRITE, no LIPIDMAPS\n",
      "\n",
      "---- compound: C00647 No BRITE, no LIPIDMAPS\n",
      "\n",
      "---- compound: C07826 from BRITE:\n",
      "('Anatomical Therapeutic Chemical (ATC) classification [BR:br08303]', 'N NERVOUS SYSTEM', 'N05 PSYCHOLEPTICS', 'N05C HYPNOTICS AND SEDATIVES')\n",
      "\n",
      "---- compound: C15986 No BRITE, no LIPIDMAPS\n",
      "47% done\n",
      "\n",
      "---- compound: LMFA01030163 LIPIDMAPS id: LMFA01030163\n",
      "('Lipids [LM]', 'Fatty Acyls [FA]', 'Fatty Acids and Conjugates [FA01]', 'Unsaturated fatty acids [FA0103]')\n",
      "\n",
      "---- compound: LMFA01030164 LIPIDMAPS id: LMFA01030164\n",
      "('Lipids [LM]', 'Fatty Acyls [FA]', 'Fatty Acids and Conjugates [FA01]', 'Unsaturated fatty acids [FA0103]')\n",
      "\n",
      "---- compound: LMFA01030165 LIPIDMAPS id: LMFA01030165\n",
      "('Lipids [LM]', 'Fatty Acyls [FA]', 'Fatty Acids and Conjugates [FA01]', 'Unsaturated fatty acids [FA0103]')\n",
      "\n",
      "---- compound: LMFA01030166 LIPIDMAPS id: LMFA01030166\n",
      "('Lipids [LM]', 'Fatty Acyls [FA]', 'Fatty Acids and Conjugates [FA01]', 'Unsaturated fatty acids [FA0103]')\n",
      "\n",
      "---- compound: LMFA01030277 LIPIDMAPS id: LMFA01030277\n",
      "('Lipids [LM]', 'Fatty Acyls [FA]', 'Fatty Acids and Conjugates [FA01]', 'Unsaturated fatty acids [FA0103]')\n",
      "\n",
      "---- compound: LMFA01030278 LIPIDMAPS id: LMFA01030278\n",
      "('Lipids [LM]', 'Fatty Acyls [FA]', 'Fatty Acids and Conjugates [FA01]', 'Unsaturated fatty acids [FA0103]')\n",
      "\n",
      "---- compound: LMFA01030279 LIPIDMAPS id: LMFA01030279\n",
      "('Lipids [LM]', 'Fatty Acyls [FA]', 'Fatty Acids and Conjugates [FA01]', 'Unsaturated fatty acids [FA0103]')\n",
      "\n",
      "---- compound: LMFA01030280 LIPIDMAPS id: LMFA01030280\n",
      "('Lipids [LM]', 'Fatty Acyls [FA]', 'Fatty Acids and Conjugates [FA01]', 'Unsaturated fatty acids [FA0103]')\n",
      "\n",
      "---- compound: LMFA01030491 LIPIDMAPS id: LMFA01030491\n",
      "('Lipids [LM]', 'Fatty Acyls [FA]', 'Fatty Acids and Conjugates [FA01]', 'Unsaturated fatty acids [FA0103]')\n",
      "\n",
      "---- compound: LMFA01030492 LIPIDMAPS id: LMFA01030492\n",
      "('Lipids [LM]', 'Fatty Acyls [FA]', 'Fatty Acids and Conjugates [FA01]', 'Unsaturated fatty acids [FA0103]')\n",
      "\n",
      "---- compound: LMFA01030493 LIPIDMAPS id: LMFA01030493\n",
      "('Lipids [LM]', 'Fatty Acyls [FA]', 'Fatty Acids and Conjugates [FA01]', 'Unsaturated fatty acids [FA0103]')\n",
      "\n",
      "---- compound: LMFA01030870 LIPIDMAPS id: LMFA01030870\n",
      "('Lipids [LM]', 'Fatty Acyls [FA]', 'Fatty Acids and Conjugates [FA01]', 'Unsaturated fatty acids [FA0103]')\n",
      "\n",
      "---- compound: LMFA01140010 LIPIDMAPS id: LMFA01140010\n",
      "('Lipids [LM]', 'Fatty Acyls [FA]', 'Fatty Acids and Conjugates [FA01]', 'Carbocyclic fatty acids [FA0114]')\n",
      "50% done\n"
     ]
    }
   ],
   "source": [
    "# Create 4 new columns with class hierarchy.\n",
    "df = pd.concat([df, df['KEGG_2_LipidMaps'].apply(annotate_classes)], axis=1)"
   ]
  },
  {
   "cell_type": "code",
   "execution_count": 24,
   "metadata": {
    "collapsed": false
   },
   "outputs": [
    {
     "name": "stdout",
     "output_type": "stream",
     "text": [
      "Created class annotation columns in 00m16s\n"
     ]
    }
   ],
   "source": [
    "elapsed_time = time.time() - start_time\n",
    "m, s = divmod(elapsed_time, 60)\n",
    "print (\"Created class annotation columns in \" + \"%02dm%02ds\" % (m, s))"
   ]
  },
  {
   "cell_type": "code",
   "execution_count": 25,
   "metadata": {
    "collapsed": false,
    "scrolled": true
   },
   "outputs": [
    {
     "name": "stdout",
     "output_type": "stream",
     "text": [
      "53% done\n",
      "57% done\n",
      "60% done\n",
      "63% done\n",
      "67% done\n",
      "70% done\n",
      "73% done\n",
      "77% done\n",
      "80% done\n",
      "83% done\n",
      "87% done\n",
      "90% done\n",
      "93% done\n",
      "97% done\n",
      "100% done\n"
     ]
    }
   ],
   "source": [
    "# Second pass: find if present in plants.\n",
    "df['KNApSAcK'] = df['LipidMaps_2_KEGG'].apply(knapsack_plants)\n",
    "# Apenas os codigos KEGG dão acesso ao KNApSAcK, como tal a pesquisa no knapsack é feita esta coluna."
   ]
  },
  {
   "cell_type": "code",
   "execution_count": 26,
   "metadata": {
    "collapsed": false
   },
   "outputs": [
    {
     "name": "stdout",
     "output_type": "stream",
     "text": [
      "Finished in 00m21s\n"
     ]
    }
   ],
   "source": [
    "# Guarda o novo dataframe para um ficheiro EXCEL (.xlsx) com o mesmo nome do ficheiro .tsv, acrecentado '_raw' ao nome\n",
    "writer = pd.ExcelWriter(testfile_name[:-4]+'_raw.xlsx')\n",
    "df.to_excel(writer, header=True, index=False)\n",
    "writer.save()\n",
    "\n",
    "elapsed_time = time.time() - start_time\n",
    "m, s = divmod(elapsed_time, 60)\n",
    "print (\"Finished in \" + \"%02dm%02ds\" % (m, s))"
   ]
  },
  {
   "cell_type": "code",
   "execution_count": null,
   "metadata": {
    "collapsed": true
   },
   "outputs": [],
   "source": []
  }
 ],
 "metadata": {
  "anaconda-cloud": {},
  "kernelspec": {
   "display_name": "Python [Root]",
   "language": "python",
   "name": "Python [Root]"
  },
  "language_info": {
   "codemirror_mode": {
    "name": "ipython",
    "version": 3
   },
   "file_extension": ".py",
   "mimetype": "text/x-python",
   "name": "python",
   "nbconvert_exporter": "python",
   "pygments_lexer": "ipython3",
   "version": "3.5.2"
  }
 },
 "nbformat": 4,
 "nbformat_minor": 0
}
