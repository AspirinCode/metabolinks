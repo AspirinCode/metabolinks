{
 "cells": [
  {
   "cell_type": "markdown",
   "metadata": {},
   "source": [
    "## Example for the retrieval of BRITE/KeGG and LIPIDMAPS compound taxonomy."
   ]
  },
  {
   "cell_type": "code",
   "execution_count": null,
   "metadata": {
    "collapsed": false
   },
   "outputs": [],
   "source": [
    "from __future__ import print_function\n",
    "import time\n",
    "\n",
    "import pandas as pd\n",
    "\n",
    "from masstrix import read_MassTRIX\n",
    "from annotations import annotate_df, load_local_kegg_db"
   ]
  },
  {
   "cell_type": "markdown",
   "metadata": {},
   "source": [
    "### Read, clean and check the example MassTRIX file.\n",
    "\n",
    "This file is in the MassTRIX \"compact\" format (one peak, several compounds per line)"
   ]
  },
  {
   "cell_type": "code",
   "execution_count": null,
   "metadata": {
    "collapsed": false
   },
   "outputs": [],
   "source": [
    "print ('Starting...\\n')\n",
    "start_time = time.time()\n",
    "\n",
    "testfile_name = 'example_data/MassTRIX_output.tsv'\n",
    "\n",
    "df = read_MassTRIX(testfile_name)\n",
    "print (\"File {} was read\\n\".format(testfile_name))\n",
    "\n",
    "# Retira as colunas 9 a 20, que não são necessárias\n",
    "# Exprimentei df.drop(df.columns[['nome', 'nome 2', ..., 'nome n']], axis=1, inplace=True) mas não resulta\n",
    "df.drop(df.columns[[9, 10, 11, 12, 13, 14, 15, 16, 17, 18, 19, 20]], axis=1, inplace=True)\n",
    "\n",
    "# check result\n",
    "df.info() # assert that there are 15 entries and 24 - 12 = 12 columns\n",
    "df.head()"
   ]
  },
  {
   "cell_type": "code",
   "execution_count": null,
   "metadata": {
    "collapsed": false
   },
   "outputs": [],
   "source": [
    "kegg_db = None\n",
    "\n",
    "# Use a local Kegg DB.\n",
    "# IMPORTANT: Comment this line to fetch KeGG records from KeGG Rest API service\n",
    "kegg_db = load_local_kegg_db('dbs/kegg_db.txt')"
   ]
  },
  {
   "cell_type": "markdown",
   "metadata": {},
   "source": [
    "### Call the main driver function.\n",
    "\n",
    "(Use *trace=True* as an argument to activate tracing of annotations)"
   ]
  },
  {
   "cell_type": "code",
   "execution_count": null,
   "metadata": {
    "collapsed": false
   },
   "outputs": [],
   "source": [
    "print ('Starting annotating...\\n')\n",
    "\n",
    "df = annotate_df(df, local_kegg_db=kegg_db)"
   ]
  },
  {
   "cell_type": "code",
   "execution_count": null,
   "metadata": {
    "collapsed": false
   },
   "outputs": [],
   "source": [
    "elapsed_time = time.time() - start_time\n",
    "m, s = divmod(elapsed_time, 60)\n",
    "\n",
    "print (\"Finished in \" + \"%02dm%02ds\" % (m, s))"
   ]
  },
  {
   "cell_type": "code",
   "execution_count": null,
   "metadata": {
    "collapsed": false
   },
   "outputs": [],
   "source": [
    "# check result\n",
    "df.info()\n",
    "df.head(10)"
   ]
  },
  {
   "cell_type": "markdown",
   "metadata": {},
   "source": [
    "### Export the annotated dataframe into a MS-Excel file\n",
    "\n",
    "Use the same name as the MassTRIX .tsv data file, replacing tail with '_raw.xlsx'"
   ]
  },
  {
   "cell_type": "code",
   "execution_count": null,
   "metadata": {
    "collapsed": false
   },
   "outputs": [],
   "source": [
    "out_fname = testfile_name[:-4]+'_raw.xlsx'\n",
    "\n",
    "df.to_excel(out_fname, header=True, index=False)\n",
    "\n",
    "print (\"File {} created\".format(out_fname))"
   ]
  },
  {
   "cell_type": "code",
   "execution_count": null,
   "metadata": {
    "collapsed": true
   },
   "outputs": [],
   "source": []
  }
 ],
 "metadata": {
  "anaconda-cloud": {},
  "kernelspec": {
   "display_name": "Python [Root]",
   "language": "python",
   "name": "Python [Root]"
  },
  "language_info": {
   "codemirror_mode": {
    "name": "ipython",
    "version": 3
   },
   "file_extension": ".py",
   "mimetype": "text/x-python",
   "name": "python",
   "nbconvert_exporter": "python",
   "pygments_lexer": "ipython3",
   "version": "3.5.2"
  }
 },
 "nbformat": 4,
 "nbformat_minor": 0
}
