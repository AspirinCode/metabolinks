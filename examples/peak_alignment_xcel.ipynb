{
 "cells": [
  {
   "cell_type": "code",
   "execution_count": null,
   "metadata": {
    "collapsed": false
   },
   "outputs": [],
   "source": [
    "from metabolinks import align_spectra_in_excel"
   ]
  },
  {
   "cell_type": "code",
   "execution_count": null,
   "metadata": {
    "collapsed": true
   },
   "outputs": [],
   "source": [
    "ppmtol = 1.0\n",
    "min_samples = 1\n",
    "        \n",
    "fname = '../example_data/data_to_align.xlsx'\n",
    "out_fname = '../example_data/aligned_data.xlsx'\n",
    "    \n",
    "header_row = 2\n",
    "sample_names = ['S1', 'S2', 'S3']\n",
    "#sample_names = 1\n",
    "#sample_names = None"
   ]
  },
  {
   "cell_type": "code",
   "execution_count": null,
   "metadata": {
    "collapsed": false
   },
   "outputs": [],
   "source": [
    "results = align_spectra_in_excel(fname, save_to_excel=out_fname,\n",
    "                                 header_row=header_row,\n",
    "                                 ppmtol=ppmtol, min_samples=min_samples,\n",
    "                                 sample_names=sample_names)"
   ]
  }
 ],
 "metadata": {
  "anaconda-cloud": {},
  "kernelspec": {
   "display_name": "Python [Root]",
   "language": "python",
   "name": "Python [Root]"
  },
  "language_info": {
   "codemirror_mode": {
    "name": "ipython",
    "version": 3
   },
   "file_extension": ".py",
   "mimetype": "text/x-python",
   "name": "python",
   "nbconvert_exporter": "python",
   "pygments_lexer": "ipython3",
   "version": "3.5.2"
  }
 },
 "nbformat": 4,
 "nbformat_minor": 0
}
