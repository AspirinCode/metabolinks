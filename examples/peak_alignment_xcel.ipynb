{
 "cells": [
  {
   "cell_type": "code",
   "execution_count": 1,
   "metadata": {
    "collapsed": true
   },
   "outputs": [],
   "source": [
    "from metabolinks import align_spectra_in_excel\n",
    "ppmtol = 1.0\n",
    "min_samples = 1\n",
    "        \n",
    "fname = '../example_data/data_to_align.xlsx'\n",
    "out_fname = '../example_data/aligned_data.xlsx'\n",
    "    \n",
    "header_row = 2\n",
    "sample_names = ['S1', 'S2', 'S3']"
   ]
  },
  {
   "cell_type": "code",
   "execution_count": 2,
   "metadata": {},
   "outputs": [
    {
     "name": "stdout",
     "output_type": "stream",
     "text": [
      "------ Reading MS-Excel file -------\n",
      "../example_data/data_to_align.xlsx\n",
      "- reading sheet \"ACN\"...\n",
      "   86 peaks in sample S1\n",
      "   97 peaks in sample S2\n",
      "  111 peaks in sample S3\n",
      "- reading sheet \"H2O\"...\n",
      "  449 peaks in sample S1\n",
      "  446 peaks in sample S2\n",
      "  414 peaks in sample S3\n",
      "- reading sheet \"MeOH\"...\n",
      "  464 peaks in sample S1\n",
      "  508 peaks in sample S2\n",
      "  495 peaks in sample S3\n",
      "- reading sheet \"Org\"...\n",
      "  337 peaks in sample S1\n",
      "  278 peaks in sample S2\n",
      "  265 peaks in sample S3\n",
      "\n",
      "------ Aligning spectra ------\n",
      "\n",
      "-- sheet \"ACN\"\n",
      "- Joining data...\n",
      "  done, 294 peaks in 3 samples\n",
      "- Aligning...\n",
      "  done, 181 aligned peaks\n",
      "  110 peaks in 1 samples\n",
      "   29 peaks in 2 samples\n",
      "   42 peaks in 3 samples\n",
      "  181 total\n",
      "\n",
      "-- sheet \"H2O\"\n",
      "- Joining data...\n",
      "  done, 1309 peaks in 3 samples\n",
      "- Aligning...\n",
      "  done, 678 aligned peaks\n",
      "  290 peaks in 1 samples\n",
      "  145 peaks in 2 samples\n",
      "  243 peaks in 3 samples\n",
      "  678 total\n",
      "\n",
      "-- sheet \"MeOH\"\n",
      "- Joining data...\n",
      "  done, 1467 peaks in 3 samples\n",
      "- Aligning...\n",
      "  done, 765 aligned peaks\n",
      "  353 peaks in 1 samples\n",
      "  122 peaks in 2 samples\n",
      "  290 peaks in 3 samples\n",
      "  765 total\n",
      "\n",
      "-- sheet \"Org\"\n",
      "- Joining data...\n",
      "  done, 880 peaks in 3 samples\n",
      "- Aligning...\n",
      "  done, 509 aligned peaks\n",
      "  275 peaks in 1 samples\n",
      "   97 peaks in 2 samples\n",
      "  137 peaks in 3 samples\n",
      "  509 total\n",
      "\n",
      "------ writing results to MS-Excel file ------\n",
      "Created file\n",
      "../example_data/aligned_data.xlsx\n"
     ]
    }
   ],
   "source": [
    "results = align_spectra_in_excel(fname, save_to_excel=out_fname,\n",
    "                                 header_row=header_row,\n",
    "                                 ppmtol=ppmtol, min_samples=min_samples,\n",
    "                                 sample_names=sample_names)"
   ]
  }
 ],
 "metadata": {
  "anaconda-cloud": {},
  "kernelspec": {
   "display_name": "Python 3",
   "language": "python",
   "name": "python3"
  },
  "language_info": {
   "codemirror_mode": {
    "name": "ipython",
    "version": 3
   },
   "file_extension": ".py",
   "mimetype": "text/x-python",
   "name": "python",
   "nbconvert_exporter": "python",
   "pygments_lexer": "ipython3",
   "version": "3.6.1"
  }
 },
 "nbformat": 4,
 "nbformat_minor": 1
}
