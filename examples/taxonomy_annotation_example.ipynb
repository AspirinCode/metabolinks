{
 "cells": [
  {
   "cell_type": "markdown",
   "metadata": {},
   "source": [
    "## Example for the retrieval of BRITE/KeGG and LIPIDMAPS compound taxonomy."
   ]
  },
  {
   "cell_type": "code",
   "execution_count": null,
   "metadata": {
    "collapsed": false
   },
   "outputs": [],
   "source": [
    "import time\n",
    "\n",
    "from metabolinks import read_MassTRIX\n",
    "from metabolinks.taxonomy import insert_taxonomy, load_local_kegg_db"
   ]
  },
  {
   "cell_type": "markdown",
   "metadata": {},
   "source": [
    "### Read, clean and check the example MassTRIX file.\n",
    "\n",
    "This file is in the MassTRIX \"compact\" format (one peak, several compounds per line)"
   ]
  },
  {
   "cell_type": "code",
   "execution_count": null,
   "metadata": {
    "collapsed": false
   },
   "outputs": [],
   "source": [
    "start_time = time.time()\n",
    "\n",
    "testfile_name = '../example_data/MassTRIX_output.tsv'\n",
    "\n",
    "df = read_MassTRIX(testfile_name)\n",
    "df = df.cleanup_cols() # removes uniqueID and 'isotopes' columns\n",
    "\n",
    "print (\"File {} was read\\n\".format(testfile_name))\n",
    "df.info() # assert that there are 15 entries and 24 - 12 = 12 columns\n",
    "df.head()"
   ]
  },
  {
   "cell_type": "code",
   "execution_count": null,
   "metadata": {
    "collapsed": false
   },
   "outputs": [],
   "source": [
    "kegg_db = None\n",
    "\n",
    "# Use a local Kegg DB.\n",
    "# IMPORTANT: Comment this line to fetch KeGG records from KeGG Rest API service\n",
    "kegg_db = load_local_kegg_db('../metabolinks/dbs/kegg_db.txt')"
   ]
  },
  {
   "cell_type": "markdown",
   "metadata": {},
   "source": [
    "### Annotate results with compound taxonomy.\n",
    "\n",
    "(Use *trace=True* as an argument to activate tracing of annotations)"
   ]
  },
  {
   "cell_type": "code",
   "execution_count": null,
   "metadata": {
    "collapsed": false,
    "scrolled": true
   },
   "outputs": [],
   "source": [
    "print ('Starting annotating...\\n')\n",
    "\n",
    "df = insert_taxonomy(df, local_kegg_db=kegg_db)\n",
    "\n",
    "elapsed_time = time.time() - start_time\n",
    "m, s = divmod(elapsed_time, 60)\n",
    "print (\"Finished in \" + \"%02dm%02ds\" % (m, s))"
   ]
  },
  {
   "cell_type": "code",
   "execution_count": null,
   "metadata": {
    "collapsed": false
   },
   "outputs": [],
   "source": [
    "# check result\n",
    "df.info()\n",
    "df[['trans_KEGG_Ids',\n",
    "    'trans_LipidMaps_Ids',\n",
    "    'Major Class', 'Class',\n",
    "    'Secondary Class',\n",
    "    'Tertiary Class',\n",
    "    'KNApSAcK']].head(10)"
   ]
  },
  {
   "cell_type": "markdown",
   "metadata": {},
   "source": [
    "### Export the annotated dataframe into a MS-Excel file\n",
    "\n",
    "Use the same name as the MassTRIX .tsv data file, replacing tail with '_raw.xlsx'"
   ]
  },
  {
   "cell_type": "code",
   "execution_count": null,
   "metadata": {
    "collapsed": false
   },
   "outputs": [],
   "source": [
    "out_fname = testfile_name[:-4]+'_raw.xlsx'\n",
    "\n",
    "df.to_excel(out_fname, header=True, index=False)\n",
    "\n",
    "print (\"File {} created\".format(out_fname))"
   ]
  },
  {
   "cell_type": "markdown",
   "metadata": {},
   "source": [
    "### Annotate results with compound taxonomy but, this time, use a black list of BRITE ids.\n",
    "\n",
    "#### Also, use *trace=True* as an argument to activate tracing of annotations"
   ]
  },
  {
   "cell_type": "code",
   "execution_count": null,
   "metadata": {
    "collapsed": false,
    "scrolled": true
   },
   "outputs": [],
   "source": [
    "start_time = time.time()\n",
    "\n",
    "print ('Starting annotating...\\n')\n",
    "\n",
    "df = read_MassTRIX(testfile_name)\n",
    "df = df.cleanup_cols() # removes uniqueID and 'isotopes' columns\n",
    "\n",
    "print (\"File {} was read\\n\".format(testfile_name))\n",
    "\n",
    "black_list_fname = '../example_data/blacklist.txt'\n",
    "\n",
    "df = insert_taxonomy(df,\n",
    "                     brite_blacklist=black_list_fname,\n",
    "                     local_kegg_db=kegg_db,\n",
    "                     trace=True)\n",
    "\n",
    "elapsed_time = time.time() - start_time\n",
    "m, s = divmod(elapsed_time, 60)\n",
    "print (\"Finished in \" + \"%02dm%02ds\" % (m, s))"
   ]
  },
  {
   "cell_type": "code",
   "execution_count": null,
   "metadata": {
    "collapsed": false
   },
   "outputs": [],
   "source": [
    "# check result\n",
    "df[['trans_KEGG_Ids',\n",
    "    'trans_LipidMaps_Ids',\n",
    "    'Major Class', 'Class',\n",
    "    'Secondary Class',\n",
    "    'Tertiary Class',\n",
    "    'KNApSAcK']].head(10)"
   ]
  }
 ],
 "metadata": {
  "anaconda-cloud": {},
  "kernelspec": {
   "display_name": "Python [Root]",
   "language": "python",
   "name": "Python [Root]"
  },
  "language_info": {
   "codemirror_mode": {
    "name": "ipython",
    "version": 3
   },
   "file_extension": ".py",
   "mimetype": "text/x-python",
   "name": "python",
   "nbconvert_exporter": "python",
   "pygments_lexer": "ipython3",
   "version": "3.5.2"
  }
 },
 "nbformat": 4,
 "nbformat_minor": 0
}
